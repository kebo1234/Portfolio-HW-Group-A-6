{
 "cells": [
  {
   "cell_type": "code",
   "execution_count": 2,
   "id": "4baf2f66",
   "metadata": {},
   "outputs": [],
   "source": [
    "import numpy as np\n",
    "import pandas as pd\n",
    "\n",
    "hf_data = pd.read_excel(\"proshares_analysis_data.xlsx\", sheet_name=\"hedge_fund_series\")\n",
    "merrill_data = pd.read_excel(\"proshares_analysis_data.xlsx\", sheet_name=\"merrill_factors\")"
   ]
  },
  {
   "cell_type": "code",
   "execution_count": null,
   "id": "8e76cae0",
   "metadata": {},
   "outputs": [],
   "source": [
    "hf_stats = {}\n",
    "hf_stats[\"Annualized Mean\"] = hf_data.mean()"
   ]
  }
 ],
 "metadata": {
  "kernelspec": {
   "display_name": "base",
   "language": "python",
   "name": "python3"
  },
  "language_info": {
   "codemirror_mode": {
    "name": "ipython",
    "version": 3
   },
   "file_extension": ".py",
   "mimetype": "text/x-python",
   "name": "python",
   "nbconvert_exporter": "python",
   "pygments_lexer": "ipython3",
   "version": "3.13.5"
  }
 },
 "nbformat": 4,
 "nbformat_minor": 5
}
