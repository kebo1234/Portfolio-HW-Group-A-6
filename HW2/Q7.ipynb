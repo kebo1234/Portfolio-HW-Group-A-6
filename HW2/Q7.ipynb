#OOS Replication (rolling 60-month window)
preds = pd.Series(index=hf_series.index)

for t in range(60, len(hf_series)):
    y_train = hf_series['HFRIFWI Index'].iloc[t-60:t]
    X_train = sm.add_constant(merrill_factors).iloc[t-60:t]

    model = sm.OLS(y_train, X_train).fit()
    preds.iloc[t] = model.predict(sm.add_constant(merrill_factors).iloc[t])

# True vs predicted
y_true = hf_series['HFRIFWI Index'].iloc[60:]
y_hat = preds.iloc[60:]

#Performance Metrics
mse = ((y_true - y_hat)**2).mean()
r2 = 1 - ((y_true - y_hat)**2).sum() / ((y_true - y_true.mean())**2).sum()

print(f"MSE: {mse:.6f}")
print(f"Out-of-sample R²: {r2:.4f}")

#Plots
plt.figure(figsize=(12,5))
plt.plot(y_true, label='Actual HFRIFWI', linewidth=2)
plt.plot(y_hat, label='Predicted (OOS)', linestyle='--')
plt.title("HFRI vs. Replication: Out-of-Sample Monthly Returns")
plt.legend()
plt.grid(True, linestyle='--', alpha=0.6)
plt.show()

#Cumulative returns comparison
cum = (1 + pd.concat([y_true, y_hat], axis=1, keys=['Actual', 'Predicted'])).cumprod()
cum.plot(figsize=(12,5), title='Cumulative Returns: Actual vs Replication')
plt.grid(True, linestyle='--', alpha=0.6)
plt.show()
